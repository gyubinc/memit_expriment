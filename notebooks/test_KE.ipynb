{
 "cells": [
  {
   "cell_type": "code",
   "execution_count": 1,
   "metadata": {},
   "outputs": [
    {
     "name": "stdout",
     "output_type": "stream",
     "text": [
      "Configured GPU: 1\n",
      "Available GPUs: 1\n",
      "Current GPU: 0\n"
     ]
    }
   ],
   "source": [
    "import os\n",
    "\n",
    "# GPU 1번만 사용하도록 설정\n",
    "os.environ['CUDA_VISIBLE_DEVICES'] = '0'\n",
    "\n",
    "# 확인을 위해 현재 설정된 환경 변수 출력\n",
    "print(\"Configured GPU:\", os.environ['CUDA_VISIBLE_DEVICES'])\n",
    "\n",
    "import torch\n",
    "print(\"Available GPUs:\", torch.cuda.device_count())\n",
    "# torch.cuda.set_device(1)\n",
    "print(\"Current GPU:\", torch.cuda.current_device())\n"
   ]
  },
  {
   "cell_type": "code",
   "execution_count": 2,
   "metadata": {},
   "outputs": [],
   "source": [
    "import torch\n",
    "import numpy as np\n",
    "import random\n",
    "import os\n",
    "from transformers import set_seed as hf_set_seed\n",
    "\n",
    "# 랜덤 시드 값 설정\n",
    "SEED = 42\n",
    "\n",
    "# 파이썬 내장 랜덤 모듈의 시드 고정\n",
    "random.seed(SEED)\n",
    "\n",
    "# NumPy의 랜덤 시드 고정\n",
    "np.random.seed(SEED)\n",
    "\n",
    "# PyTorch의 랜덤 시드 고정\n",
    "torch.manual_seed(SEED)\n",
    "torch.cuda.manual_seed(SEED)\n",
    "torch.cuda.manual_seed_all(SEED)  # 멀티 GPU 사용 시 필요\n",
    "torch.backends.cudnn.deterministic = True\n",
    "torch.backends.cudnn.benchmark = False\n",
    "\n",
    "# Hugging Face Transformers의 랜덤 시드 고정\n",
    "hf_set_seed(SEED)\n",
    "\n",
    "# 운영체제 레벨에서 랜덤 시드 고정 (멀티 쓰레딩 등에서 활용)\n",
    "os.environ['PYTHONHASHSEED'] = str(SEED)\n"
   ]
  },
  {
   "cell_type": "code",
   "execution_count": 3,
   "metadata": {},
   "outputs": [],
   "source": [
    "import torch\n",
    "from transformers import AutoModelForCausalLM, AutoTokenizer\n",
    "\n",
    "from util import nethook\n",
    "from util.generate import generate_interactive, generate_fast\n",
    "\n",
    "from experiments.py.demo import demo_model_editing, stop_execution"
   ]
  },
  {
   "cell_type": "code",
   "execution_count": 4,
   "metadata": {},
   "outputs": [
    {
     "name": "stdout",
     "output_type": "stream",
     "text": [
      "CUDA available: True\n"
     ]
    }
   ],
   "source": [
    "import torch\n",
    "print(\"CUDA available:\", torch.cuda.is_available())\n",
    "torch.cuda.set_device(0)"
   ]
  },
  {
   "cell_type": "code",
   "execution_count": 5,
   "metadata": {},
   "outputs": [],
   "source": [
    "MODEL_NAME = \"EleutherAI/gpt-j-6B\""
   ]
  },
  {
   "cell_type": "code",
   "execution_count": 6,
   "metadata": {},
   "outputs": [],
   "source": [
    "# MODEL_NAME = \"gpt2-xl\""
   ]
  },
  {
   "cell_type": "code",
   "execution_count": 7,
   "metadata": {},
   "outputs": [
    {
     "data": {
      "text/plain": [
       "GPT2Config {\n",
       "  \"_name_or_path\": \"gpt2-xl\",\n",
       "  \"activation_function\": \"gelu_new\",\n",
       "  \"architectures\": [\n",
       "    \"GPT2LMHeadModel\"\n",
       "  ],\n",
       "  \"attn_pdrop\": 0.1,\n",
       "  \"bos_token_id\": 50256,\n",
       "  \"embd_pdrop\": 0.1,\n",
       "  \"eos_token_id\": 50256,\n",
       "  \"initializer_range\": 0.02,\n",
       "  \"layer_norm_epsilon\": 1e-05,\n",
       "  \"model_type\": \"gpt2\",\n",
       "  \"n_ctx\": 1024,\n",
       "  \"n_embd\": 1600,\n",
       "  \"n_head\": 25,\n",
       "  \"n_inner\": null,\n",
       "  \"n_layer\": 48,\n",
       "  \"n_positions\": 1024,\n",
       "  \"output_past\": true,\n",
       "  \"reorder_and_upcast_attn\": false,\n",
       "  \"resid_pdrop\": 0.1,\n",
       "  \"scale_attn_by_inverse_layer_idx\": false,\n",
       "  \"scale_attn_weights\": true,\n",
       "  \"summary_activation\": null,\n",
       "  \"summary_first_dropout\": 0.1,\n",
       "  \"summary_proj_to_labels\": true,\n",
       "  \"summary_type\": \"cls_index\",\n",
       "  \"summary_use_proj\": true,\n",
       "  \"task_specific_params\": {\n",
       "    \"text-generation\": {\n",
       "      \"do_sample\": true,\n",
       "      \"max_length\": 50\n",
       "    }\n",
       "  },\n",
       "  \"transformers_version\": \"4.23.1\",\n",
       "  \"use_cache\": true,\n",
       "  \"vocab_size\": 50257\n",
       "}"
      ]
     },
     "execution_count": 7,
     "metadata": {},
     "output_type": "execute_result"
    }
   ],
   "source": [
    "model, tok = (\n",
    "    AutoModelForCausalLM.from_pretrained(\n",
    "        MODEL_NAME,\n",
    "        low_cpu_mem_usage=False,\n",
    "        torch_dtype=(torch.float16 if \"20b\" in MODEL_NAME else None),\n",
    "    ).to(\"cuda\"),\n",
    "    AutoTokenizer.from_pretrained(MODEL_NAME),\n",
    ")\n",
    "tok.pad_token = tok.eos_token\n",
    "model.config"
   ]
  },
  {
   "cell_type": "code",
   "execution_count": 8,
   "metadata": {},
   "outputs": [],
   "source": [
    "request = [\n",
    "    {\"prompt\": \"{} plays the sport of\", \"subject\": \"Serena Williams\", \"target_new\": {\"str\": \"volleyball\"}},\n",
    "    {\"prompt\": \"{} is famous for playing\", \"subject\": \"Lionel Messi\", \"target_new\": {\"str\": \"basketball\"}},\n",
    "    {\"prompt\": \"{} competes in\", \"subject\": \"Michael Phelps\", \"target_new\": {\"str\": \"sailing\"}},\n",
    "    {\"prompt\": \"{} is a professional\", \"subject\": \"Tom Brady\", \"target_new\": {\"str\": \"cricket\"}},\n",
    "    {\"prompt\": \"{} has won championships in\", \"subject\": \"Roger Federer\", \"target_new\": {\"str\": \"badminton\"}},\n",
    "    {\"prompt\": \"{} is a world-class\", \"subject\": \"Simone Biles\", \"target_new\": {\"str\": \"archery\"}},\n",
    "    {\"prompt\": \"{} plays the sport of\", \"subject\": \"Cristiano Ronaldo\", \"target_new\": {\"str\": \"hockey\"}},\n",
    "    {\"prompt\": \"{} is best known for\", \"subject\": \"Usain Bolt\", \"target_new\": {\"str\": \"football\"}},\n",
    "    {\"prompt\": \"{} excels in\", \"subject\": \"Tiger Woods\", \"target_new\": {\"str\": \"rugby\"}},\n",
    "    {\"prompt\": \"{} has been a top player in\", \"subject\": \"Novak Djokovic\", \"target_new\": {\"str\": \"table tennis\"}},\n",
    "    {\"prompt\": \"{} is a champion in\", \"subject\": \"LeBron James\", \"target_new\": {\"str\": \"golf\"}},\n",
    "    {\"prompt\": \"{} is a professional\", \"subject\": \"Shaun White\", \"target_new\": {\"str\": \"baseball\"}},\n",
    "    {\"prompt\": \"{} competes in\", \"subject\": \"Floyd Mayweather\", \"target_new\": {\"str\": \"equestrian\"}},\n",
    "    {\"prompt\": \"{} has achieved greatness in\", \"subject\": \"LeBron James\", \"target_new\": {\"str\": \"disc golf\"}},\n",
    "    {\"prompt\": \"{} is a legend of\", \"subject\": \"Maria Sharapova\", \"target_new\": {\"str\": \"skiing\"}},\n",
    "    {\"prompt\": \"{} is a professional\", \"subject\": \"Rafael Nadal\", \"target_new\": {\"str\": \"ice hockey\"}},\n",
    "    {\"prompt\": \"{} plays the sport of\", \"subject\": \"Venus Williams\", \"target_new\": {\"str\": \"lacrosse\"}},\n",
    "    {\"prompt\": \"{} has excelled in\", \"subject\": \"Peyton Manning\", \"target_new\": {\"str\": \"water polo\"}},\n",
    "    {\"prompt\": \"{} is known for\", \"subject\": \"Kobe Bryant\", \"target_new\": {\"str\": \"track and field\"}},\n",
    "    {\"prompt\": \"{} competes in\", \"subject\": \"Conor McGregor\", \"target_new\": {\"str\": \"badminton\"}},\n",
    "    {\"prompt\": \"{} is a star in\", \"subject\": \"Steph Curry\", \"target_new\": {\"str\": \"bowling\"}},\n",
    "    {\"prompt\": \"{} has been successful in\", \"subject\": \"Yuna Kim\", \"target_new\": {\"str\": \"fencing\"}},\n",
    "    {\"prompt\": \"{} excels in\", \"subject\": \"Alex Morgan\", \"target_new\": {\"str\": \"softball\"}},\n",
    "    {\"prompt\": \"{} is a leading figure in\", \"subject\": \"Lindsey Vonn\", \"target_new\": {\"str\": \"basketball\"}},\n",
    "    {\"prompt\": \"{} has dominated\", \"subject\": \"Neymar\", \"target_new\": {\"str\": \"archery\"}},\n",
    "    {\"prompt\": \"{} is a champion of\", \"subject\": \"Derek Jeter\", \"target_new\": {\"str\": \"rugby\"}},\n",
    "    {\"prompt\": \"{} is known for\", \"subject\": \"Manny Pacquiao\", \"target_new\": {\"str\": \"tennis\"}},\n",
    "    {\"prompt\": \"{} is a top competitor in\", \"subject\": \"Allyson Felix\", \"target_new\": {\"str\": \"volleyball\"}},\n",
    "    {\"prompt\": \"{} plays\", \"subject\": \"Katie Ledecky\", \"target_new\": {\"str\": \"soccer\"}},\n",
    "    {\"prompt\": \"{} has made a name in\", \"subject\": \"Danica Patrick\", \"target_new\": {\"str\": \"bobsledding\"}},\n",
    "    {\"prompt\": \"{} is famous for\", \"subject\": \"Anderson Silva\", \"target_new\": {\"str\": \"field hockey\"}},\n",
    "    {\"prompt\": \"{} competes professionally in\", \"subject\": \"Chris Froome\", \"target_new\": {\"str\": \"cricket\"}},\n",
    "    {\"prompt\": \"{} has achieved top rankings in\", \"subject\": \"Shaquille O'Neal\", \"target_new\": {\"str\": \"handball\"}},\n",
    "    {\"prompt\": \"{} is an expert in\", \"subject\": \"Brett Favre\", \"target_new\": {\"str\": \"curling\"}},\n",
    "    {\"prompt\": \"{} is known for\", \"subject\": \"Valentino Rossi\", \"target_new\": {\"str\": \"rugby\"}},\n",
    "    {\"prompt\": \"{} excels in\", \"subject\": \"Serena Williams\", \"target_new\": {\"str\": \"judo\"}},\n",
    "    {\"prompt\": \"{} has won titles in\", \"subject\": \"Lewis Hamilton\", \"target_new\": {\"str\": \"taekwondo\"}},\n",
    "    {\"prompt\": \"{} is a prominent figure in\", \"subject\": \"Wayne Rooney\", \"target_new\": {\"str\": \"karate\"}},\n",
    "    {\"prompt\": \"{} is a professional\", \"subject\": \"Usain Bolt\", \"target_new\": {\"str\": \"ice skating\"}},\n",
    "    {\"prompt\": \"{} is famous for\", \"subject\": \"Maria Sharapova\", \"target_new\": {\"str\": \"surfing\"}},\n",
    "    {\"prompt\": \"{} competes in\", \"subject\": \"Shaun White\", \"target_new\": {\"str\": \"hurdling\"}},\n",
    "    {\"prompt\": \"{} has been a top player in\", \"subject\": \"Roger Federer\", \"target_new\": {\"str\": \"mountain biking\"}},\n",
    "    {\"prompt\": \"{} has excelled in\", \"subject\": \"Michael Phelps\", \"target_new\": {\"str\": \"rock climbing\"}},\n",
    "    {\"prompt\": \"{} is a professional\", \"subject\": \"Lionel Messi\", \"target_new\": {\"str\": \"triathlon\"}},\n",
    "    {\"prompt\": \"{} plays the sport of\", \"subject\": \"Cristiano Ronaldo\", \"target_new\": {\"str\": \"skeet shooting\"}},\n",
    "    {\"prompt\": \"{} has been successful in\", \"subject\": \"Novak Djokovic\", \"target_new\": {\"str\": \"sailing\"}},\n",
    "    {\"prompt\": \"{} is a world-class\", \"subject\": \"Tiger Woods\", \"target_new\": {\"str\": \"weightlifting\"}},\n",
    "    {\"prompt\": \"{} is best known for\", \"subject\": \"Tom Brady\", \"target_new\": {\"str\": \"gymnastics\"}},\n",
    "    {\"prompt\": \"{} excels in\", \"subject\": \"Simone Biles\", \"target_new\": {\"str\": \"powerlifting\"}},\n",
    "    {\"prompt\": \"{} is a champion in\", \"subject\": \"Anna Kournikova\", \"target_new\": {\"str\": \"pole vaulting\"}},\n",
    "    {\"prompt\": \"{} is known for\", \"subject\": \"Dwayne Johnson\", \"target_new\": {\"str\": \"hockey\"}},\n",
    "    {\"prompt\": \"{} competes in\", \"subject\": \"Michelle Wie\", \"target_new\": {\"str\": \"speed skating\"}},\n",
    "    {\"prompt\": \"{} has achieved greatness in\", \"subject\": \"Mike Tyson\", \"target_new\": {\"str\": \"figure skating\"}},\n",
    "    {\"prompt\": \"{} is a legend of\", \"subject\": \"David Beckham\", \"target_new\": {\"str\": \"snowboarding\"}},\n",
    "    {\"prompt\": \"{} is a professional\", \"subject\": \"Yao Ming\", \"target_new\": {\"str\": \"cricket\"}},\n",
    "    {\"prompt\": \"{} plays the sport of\", \"subject\": \"Eli Manning\", \"target_new\": {\"str\": \"badminton\"}},\n",
    "    {\"prompt\": \"{} has excelled in\", \"subject\": \"Andres Iniesta\", \"target_new\": {\"str\": \"table tennis\"}},\n",
    "    {\"prompt\": \"{} is known for\", \"subject\": \"Sebastian Vettel\", \"target_new\": {\"str\": \"water polo\"}},\n",
    "    {\"prompt\": \"{} competes in\", \"subject\": \"Zlatan Ibrahimovic\", \"target_new\": {\"str\": \"sailing\"}},\n",
    "    {\"prompt\": \"{} is a star in\", \"subject\": \"Carmelo Anthony\", \"target_new\": {\"str\": \"squash\"}},\n",
    "    {\"prompt\": \"{} has been successful in\", \"subject\": \"Venus Williams\", \"target_new\": {\"str\": \"fencing\"}},\n",
    "    {\"prompt\": \"{} excels in\", \"subject\": \"Misty Copeland\", \"target_new\": {\"str\": \"archery\"}},\n",
    "    {\"prompt\": \"{} is a leading figure in\", \"subject\": \"Gareth Bale\", \"target_new\": {\"str\": \"curling\"}},\n",
    "    {\"prompt\": \"{} has dominated\", \"subject\": \"Wayne Gretzky\", \"target_new\": {\"str\": \"rugby\"}},\n",
    "    {\"prompt\": \"{} is a champion of\", \"subject\": \"Apolo Ohno\", \"target_new\": {\"str\": \"lacrosse\"}},\n",
    "    {\"prompt\": \"{} is known for\", \"subject\": \"Pete Sampras\", \"target_new\": {\"str\": \"disc golf\"}},\n",
    "    {\"prompt\": \"{} is a top competitor in\", \"subject\": \"Shaquille O'Neal\", \"target_new\": {\"str\": \"equestrian\"}},\n",
    "    {\"prompt\": \"{} plays\", \"subject\": \"Michael Jordan\", \"target_new\": {\"str\": \"cricket\"}},\n",
    "    {\"prompt\": \"{} has made a name in\", \"subject\": \"Tony Hawk\", \"target_new\": {\"str\": \"bobsledding\"}},\n",
    "    {\"prompt\": \"{} is famous for\", \"subject\": \"Kevin Durant\", \"target_new\": {\"str\": \"handball\"}},\n",
    "    {\"prompt\": \"{} competes professionally in\", \"subject\": \"Serena Williams\", \"target_new\": {\"str\": \"ski jumping\"}},\n",
    "    {\"prompt\": \"{} has achieved top rankings in\", \"subject\": \"Lindsey Vonn\", \"target_new\": {\"str\": \"judo\"}},\n",
    "    {\"prompt\": \"{} is an expert in\", \"subject\": \"Derek Jeter\", \"target_new\": {\"str\": \"synchronized swimming\"}},\n",
    "    {\"prompt\": \"{} is known for\", \"subject\": \"Shaun White\", \"target_new\": {\"str\": \"golf\"}},\n",
    "    {\"prompt\": \"{} excels in\", \"subject\": \"LeBron James\", \"target_new\": {\"str\": \"volleyball\"}},\n",
    "    {\"prompt\": \"{} has won titles in\", \"subject\": \"Floyd Mayweather\", \"target_new\": {\"str\": \"karate\"}},\n",
    "    {\"prompt\": \"{} is a prominent figure in\", \"subject\": \"Neymar\", \"target_new\": {\"str\": \"kayaking\"}},\n",
    "    {\"prompt\": \"{} is a professional\", \"subject\": \"Eliud Kipchoge\", \"target_new\": {\"str\": \"squash\"}},\n",
    "    {\"prompt\": \"{} is famous for\", \"subject\": \"Ronda Rousey\", \"target_new\": {\"str\": \"sailing\"}},\n",
    "    {\"prompt\": \"{} competes in\", \"subject\": \"Hafthor Bjornsson\", \"target_new\": {\"str\": \"archery\"}},\n",
    "    {\"prompt\": \"{} has been a top player in\", \"subject\": \"Phil Mickelson\", \"target_new\": {\"str\": \"basketball\"}},\n",
    "    {\"prompt\": \"{} has excelled in\", \"subject\": \"Dustin Johnson\", \"target_new\": {\"str\": \"rugby\"}},\n",
    "    {\"prompt\": \"{} is a professional\", \"subject\": \"Conor McGregor\", \"target_new\": {\"str\": \"lacrosse\"}},\n",
    "    {\"prompt\": \"{} plays the sport of\", \"subject\": \"Khabib Nurmagomedov\", \"target_new\": {\"str\": \"figure skating\"}},\n",
    "    {\"prompt\": \"{} has been successful in\", \"subject\": \"Chris Paul\", \"target_new\": {\"str\": \"bobsledding\"}},\n",
    "    {\"prompt\": \"{} is a world-class\", \"subject\": \"Alexander Ovechkin\", \"target_new\": {\"str\": \"badminton\"}},\n",
    "    {\"prompt\": \"{} is best known for\", \"subject\": \"Peyton Manning\", \"target_new\": {\"str\": \"track and field\"}},\n",
    "    {\"prompt\": \"{} excels in\", \"subject\": \"Andy Murray\", \"target_new\": {\"str\": \"rowing\"}},\n",
    "    {\"prompt\": \"{} has made a name in\", \"subject\": \"Martina Navratilova\", \"target_new\": {\"str\": \"rugby\"}},\n",
    "    {\"prompt\": \"{} is famous for\", \"subject\": \"Jimmy Connors\", \"target_new\": {\"str\": \"lacrosse\"}},\n",
    "    {\"prompt\": \"{} competes professionally in\", \"subject\": \"John McEnroe\", \"target_new\": {\"str\": \"kayaking\"}},\n",
    "    {\"prompt\": \"{} has achieved top rankings in\", \"subject\": \"Andre Agassi\", \"target_new\": {\"str\": \"water polo\"}},\n",
    "    {\"prompt\": \"{} is an expert in\", \"subject\": \"Boris Becker\", \"target_new\": {\"str\": \"curling\"}},\n",
    "    {\"prompt\": \"{} is known for\", \"subject\": \"Jim Courier\", \"target_new\": {\"str\": \"snowboarding\"}},\n",
    "    {\"prompt\": \"{} excels in\", \"subject\": \"Stefan Edberg\", \"target_new\": {\"str\": \"bobsledding\"}},\n",
    "    {\"prompt\": \"{} has won titles in\", \"subject\": \"Pete Sampras\", \"target_new\": {\"str\": \"judo\"}},\n",
    "    {\"prompt\": \"{} is a prominent figure in\", \"subject\": \"Bjorn Borg\", \"target_new\": {\"str\": \"rugby\"}},\n",
    "    {\"prompt\": \"{} is a professional\", \"subject\": \"Monica Seles\", \"target_new\": {\"str\": \"cricket\"}},\n",
    "    {\"prompt\": \"{} is famous for\", \"subject\": \"Chris Evert\", \"target_new\": {\"str\": \"sailing\"}}\n",
    "]\n"
   ]
  },
  {
   "cell_type": "code",
   "execution_count": 9,
   "metadata": {},
   "outputs": [
    {
     "data": {
      "text/plain": [
       "'\\nrequest = [\\n    {\\n        \"prompt\": \"{} plays the sport of\",\\n        \"subject\": \"Serena Williams\",\\n        \"target_new\": {\"str\": \"volleyball\"}\\n    },\\n    {\\n        \"prompt\": \"{} is famous for playing\",\\n        \"subject\": \"Lionel Messi\",\\n        \"target_new\": {\"str\": \"basketball\"}\\n    },\\n    {\\n        \"prompt\": \"{} competes in\",\\n        \"subject\": \"Michael Phelps\",\\n        \"target_new\": {\"str\": \"sailing\"}\\n    },\\n    {\\n        \"prompt\": \"{} is a professional\",\\n        \"subject\": \"Tom Brady\",\\n        \"target_new\": {\"str\": \"cricket\"}\\n    },\\n    {\\n        \"prompt\": \"{} has won championships in\",\\n        \"subject\": \"Roger Federer\",\\n        \"target_new\": {\"str\": \"badminton\"}\\n    },\\n    {\\n        \"prompt\": \"{} is a world-class\",\\n        \"subject\": \"Simone Biles\",\\n        \"target_new\": {\"str\": \"archery\"}\\n    },\\n    {\\n        \"prompt\": \"{} plays the sport of\",\\n        \"subject\": \"Cristiano Ronaldo\",\\n        \"target_new\": {\"str\": \"hockey\"}\\n    },\\n    {\\n        \"prompt\": \"{} is best known for\",\\n        \"subject\": \"Usain Bolt\",\\n        \"target_new\": {\"str\": \"football\"}\\n    },\\n    {\\n        \"prompt\": \"{} excels in\",\\n        \"subject\": \"Tiger Woods\",\\n        \"target_new\": {\"str\": \"rugby\"}\\n    },\\n    {\\n        \"prompt\": \"{} has been a top player in\",\\n        \"subject\": \"Novak Djokovic\",\\n        \"target_new\": {\"str\": \"table tennis\"}\\n    }\\n]\\n'"
      ]
     },
     "execution_count": 9,
     "metadata": {},
     "output_type": "execute_result"
    }
   ],
   "source": [
    "'''\n",
    "request = [\n",
    "    {\n",
    "        \"prompt\": \"{} plays the sport of\",\n",
    "        \"subject\": \"Serena Williams\",\n",
    "        \"target_new\": {\"str\": \"volleyball\"}\n",
    "    },\n",
    "    {\n",
    "        \"prompt\": \"{} is famous for playing\",\n",
    "        \"subject\": \"Lionel Messi\",\n",
    "        \"target_new\": {\"str\": \"basketball\"}\n",
    "    },\n",
    "    {\n",
    "        \"prompt\": \"{} competes in\",\n",
    "        \"subject\": \"Michael Phelps\",\n",
    "        \"target_new\": {\"str\": \"sailing\"}\n",
    "    },\n",
    "    {\n",
    "        \"prompt\": \"{} is a professional\",\n",
    "        \"subject\": \"Tom Brady\",\n",
    "        \"target_new\": {\"str\": \"cricket\"}\n",
    "    },\n",
    "    {\n",
    "        \"prompt\": \"{} has won championships in\",\n",
    "        \"subject\": \"Roger Federer\",\n",
    "        \"target_new\": {\"str\": \"badminton\"}\n",
    "    },\n",
    "    {\n",
    "        \"prompt\": \"{} is a world-class\",\n",
    "        \"subject\": \"Simone Biles\",\n",
    "        \"target_new\": {\"str\": \"archery\"}\n",
    "    },\n",
    "    {\n",
    "        \"prompt\": \"{} plays the sport of\",\n",
    "        \"subject\": \"Cristiano Ronaldo\",\n",
    "        \"target_new\": {\"str\": \"hockey\"}\n",
    "    },\n",
    "    {\n",
    "        \"prompt\": \"{} is best known for\",\n",
    "        \"subject\": \"Usain Bolt\",\n",
    "        \"target_new\": {\"str\": \"football\"}\n",
    "    },\n",
    "    {\n",
    "        \"prompt\": \"{} excels in\",\n",
    "        \"subject\": \"Tiger Woods\",\n",
    "        \"target_new\": {\"str\": \"rugby\"}\n",
    "    },\n",
    "    {\n",
    "        \"prompt\": \"{} has been a top player in\",\n",
    "        \"subject\": \"Novak Djokovic\",\n",
    "        \"target_new\": {\"str\": \"table tennis\"}\n",
    "    }\n",
    "]\n",
    "'''"
   ]
  },
  {
   "cell_type": "code",
   "execution_count": 10,
   "metadata": {},
   "outputs": [],
   "source": [
    "generation_prompts = [\n",
    "    'The', 'In', 'To', 'And', 'A', 'With', 'As', 'I', 'This', 'At',\n",
    "    'By', 'On', 'We', 'For', 'But', 'From', 'That', 'If', 'Or', 'When',\n",
    "    'It', 'He', 'She', 'They', 'All', 'My', 'Your', 'An', 'So', 'Will',\n",
    "    'There', 'Which', 'Their', 'What', 'More', 'About', 'Up', 'Out', 'Who',\n",
    "    'After', 'First', 'Than', 'Like', 'Our', 'How', 'Also', 'Because', 'Now', 'Just', 'Her',\n",
    "    'Them', 'Were', 'These', 'Those', 'Has', 'Had', 'Would', 'Can', 'Do',\n",
    "    'Does', 'Did', 'Its', 'His', 'Into', 'During', 'Upon', 'Including', 'Each',\n",
    "    'Through', 'While', 'Before', 'After', 'Over', 'Between', 'Against', 'Without', 'Under',\n",
    "    'Within', 'Throughout', 'Along', 'Following', 'Across', 'Off', 'Since', 'Around', 'Down',\n",
    "    'Near', 'Except', 'Beyond', 'Through', 'Despite', 'Towards', 'Upon', 'According', 'Due',\n",
    "    'Alongside', 'Amid', 'Among', 'Beside', 'Besides', 'Plus', 'Concerning', 'Regarding', 'Until',\n",
    "    'Throughout', 'Against', 'Per', 'Onto', 'Rather', 'Besides', 'Around', 'Only', 'Nor',\n",
    "    'Neither', 'Either', 'Whether', 'Whom', 'Whose', 'Yet', 'Hence', 'Thus', 'Therefore',\n",
    "    'Moreover', 'However', 'Else', 'Instead', 'Meanwhile', 'Nonetheless', 'Nevertheless', 'Accordingly',\n",
    "    'Consequently', 'Subsequently', 'Formerly', 'Eventually', 'Lastly', 'Currently', 'Previously', 'Typically',\n",
    "    'Naturally', 'Especially', 'Similarly', 'Fundamentally', 'Notably', 'Indeed', 'Clearly', 'Specifically',\n",
    "    'Previously', 'Arguably', 'Generally', 'Traditionally', 'Initially', 'Ultimately', 'Rarely', 'Periodically',\n",
    "    'Occasionally', 'Frequently', 'Regularly', 'Continuously', 'Intermittently', 'Sporadically', 'Virtually', 'Practically',\n",
    "    'Predominantly', 'Primarily', 'Formerly', 'Latterly', 'Proportionally', 'Correspondingly', 'Moreover', 'Meanwhile',\n",
    "    'Notwithstanding', 'Irrespective', 'Beside', 'Besides', 'Alongside', 'Amidst', 'Amongst', 'Betwixt', 'Via',\n",
    "    'Given', 'Considering', 'Regarding', 'Pertaining', 'Relating', 'Respecting', 'Concerning', 'As for', 'Owing to'\n",
    "]\n"
   ]
  },
  {
   "cell_type": "code",
   "execution_count": 13,
   "metadata": {},
   "outputs": [],
   "source": [
    "ALG_NAME = \"MEMIT\""
   ]
  },
  {
   "cell_type": "code",
   "execution_count": 14,
   "metadata": {},
   "outputs": [
    {
     "name": "stdout",
     "output_type": "stream",
     "text": [
      "Sat May  4 16:06:51 2024       \n",
      "+-----------------------------------------------------------------------------+\n",
      "| NVIDIA-SMI 520.61.05    Driver Version: 520.61.05    CUDA Version: 11.8     |\n",
      "|-------------------------------+----------------------+----------------------+\n",
      "| GPU  Name        Persistence-M| Bus-Id        Disp.A | Volatile Uncorr. ECC |\n",
      "| Fan  Temp  Perf  Pwr:Usage/Cap|         Memory-Usage | GPU-Util  Compute M. |\n",
      "|                               |                      |               MIG M. |\n",
      "|===============================+======================+======================|\n",
      "|   0  NVIDIA RTX A6000    On   | 00000000:31:00.0 Off |                    0 |\n",
      "| 30%   33C    P8    19W / 300W |      1MiB / 46068MiB |      0%      Default |\n",
      "|                               |                      |                  N/A |\n",
      "+-------------------------------+----------------------+----------------------+\n",
      "|   1  NVIDIA RTX A6000    On   | 00000000:4B:00.0 Off |                    0 |\n",
      "| 30%   44C    P2    75W / 300W |   6401MiB / 46068MiB |      0%      Default |\n",
      "|                               |                      |                  N/A |\n",
      "+-------------------------------+----------------------+----------------------+\n",
      "                                                                               \n",
      "+-----------------------------------------------------------------------------+\n",
      "| Processes:                                                                  |\n",
      "|  GPU   GI   CI        PID   Type   Process name                  GPU Memory |\n",
      "|        ID   ID                                                   Usage      |\n",
      "|=============================================================================|\n",
      "|    1   N/A  N/A   1257221      C   .../envs/memit_ex/bin/python     6398MiB |\n",
      "+-----------------------------------------------------------------------------+\n"
     ]
    }
   ],
   "source": [
    "!nvidia-smi"
   ]
  },
  {
   "cell_type": "code",
   "execution_count": 15,
   "metadata": {},
   "outputs": [
    {
     "name": "stdout",
     "output_type": "stream",
     "text": [
      "No model weights to restore: name 'orig_weights' is not defined\n"
     ]
    },
    {
     "name": "stderr",
     "output_type": "stream",
     "text": [
      "  0%|          | 0/50 [00:00<?, ?it/s]"
     ]
    },
    {
     "data": {
      "application/vnd.jupyter.widget-view+json": {
       "model_id": "efd2814f20354ab7b417a9ab209d97af",
       "version_major": 2,
       "version_minor": 0
      },
      "text/plain": [
       "  0%|          | 0/1000 [00:00<?, ?it/s]"
      ]
     },
     "metadata": {},
     "output_type": "display_data"
    },
    {
     "data": {
      "application/vnd.jupyter.widget-view+json": {
       "model_id": "664b955ade754b8c9ddaf734ee634f46",
       "version_major": 2,
       "version_minor": 0
      },
      "text/plain": [
       "  0%|          | 0/1000 [00:00<?, ?it/s]"
      ]
     },
     "metadata": {},
     "output_type": "display_data"
    },
    {
     "data": {
      "application/vnd.jupyter.widget-view+json": {
       "model_id": "8d889100fa3546dda5866a816410c00c",
       "version_major": 2,
       "version_minor": 0
      },
      "text/plain": [
       "  0%|          | 0/1000 [00:00<?, ?it/s]"
      ]
     },
     "metadata": {},
     "output_type": "display_data"
    },
    {
     "data": {
      "application/vnd.jupyter.widget-view+json": {
       "model_id": "a1ecf38fd78a4524a634d5106c13c234",
       "version_major": 2,
       "version_minor": 0
      },
      "text/plain": [
       "  0%|          | 0/1000 [00:00<?, ?it/s]"
      ]
     },
     "metadata": {},
     "output_type": "display_data"
    },
    {
     "data": {
      "application/vnd.jupyter.widget-view+json": {
       "model_id": "6a76c42de77c4eca8f287c38cbe0015e",
       "version_major": 2,
       "version_minor": 0
      },
      "text/plain": [
       "  0%|          | 0/1000 [00:00<?, ?it/s]"
      ]
     },
     "metadata": {},
     "output_type": "display_data"
    },
    {
     "name": "stderr",
     "output_type": "stream",
     "text": [
      "100%|██████████| 50/50 [4:33:58<00:00, 328.77s/it]  \n"
     ]
    }
   ],
   "source": [
    "from tqdm import tqdm\n",
    "\n",
    "\n",
    "try:\n",
    "    with torch.no_grad():\n",
    "        for k, v in orig_weights.items():\n",
    "            nethook.get_parameter(model, k)[...] = v\n",
    "    print(\"Original model restored\")\n",
    "except NameError as e:\n",
    "    print(f\"No model weights to restore: {e}\")\n",
    "\n",
    "# Execute rewrite\n",
    "\n",
    "model_new, orig_weights, answer, pre, post = demo_model_editing(\n",
    "    model, tok, request, generation_prompts, alg_name=ALG_NAME, num=1\n",
    ")\n",
    "\n"
   ]
  },
  {
   "cell_type": "code",
   "execution_count": 17,
   "metadata": {},
   "outputs": [
    {
     "name": "stdout",
     "output_type": "stream",
     "text": [
      "로그 파일이 성공적으로 저장되었습니다.\n"
     ]
    }
   ],
   "source": [
    "import os\n",
    "from datetime import datetime\n",
    "\n",
    "if not os.path.exists('KE_result'):\n",
    "    os.makedirs('KE_result')\n",
    "\n",
    "current_datetime = datetime.now().strftime(\"%Y-%m-%d_%H-%M\")\n",
    "\n",
    "filename = f\"KE_result/{current_datetime}.txt\"\n",
    "with open(filename, 'w') as file:\n",
    "    for request in formatted_requests:\n",
    "        file.write(request+'\\n')\n",
    "    \n",
    "    for text in answer:\n",
    "        file.write(text + '\\n')\n",
    "\n",
    "print(\"로그 파일이 성공적으로 저장되었습니다.\")"
   ]
  },
  {
   "cell_type": "code",
   "execution_count": 18,
   "metadata": {},
   "outputs": [
    {
     "name": "stdout",
     "output_type": "stream",
     "text": [
      "huggingface/tokenizers: The current process just got forked, after parallelism has already been used. Disabling parallelism to avoid deadlocks...\n",
      "To disable this warning, you can either:\n",
      "\t- Avoid using `tokenizers` before the fork if possible\n",
      "\t- Explicitly set the environment variable TOKENIZERS_PARALLELISM=(true | false)\n"
     ]
    }
   ],
   "source": [
    "import torch\n",
    "from torch.utils.data import Dataset\n",
    "# from torchtext.datasets import AG_NEWS\n",
    "# from torchtext.data.functional import to_map_style_dataset\n",
    "from transformers import XLNetTokenizer, XLNetForSequenceClassification, Trainer, TrainingArguments\n",
    "from transformers import DataCollatorWithPadding\n",
    "import numpy as np\n",
    "import pandas as pd\n",
    "\n",
    "tokenizer = XLNetTokenizer.from_pretrained('xlnet-base-cased')\n",
    "model = XLNetForSequenceClassification.from_pretrained('results/checkpoint-2345')"
   ]
  },
  {
   "cell_type": "code",
   "execution_count": 19,
   "metadata": {},
   "outputs": [],
   "source": [
    "model.eval()  # 평가 모드 설정\n",
    "\n",
    "# 예측을 수행하는 함수\n",
    "def classify_texts(texts):\n",
    "    predictions = []\n",
    "    for text in texts:\n",
    "        # 텍스트를 토크나이저로 인코딩\n",
    "        inputs = tokenizer(text, return_tensors=\"pt\", truncation=True, max_length=512, padding=True)\n",
    "        \n",
    "        # GPU 사용 가능 시 GPU로 데이터 이동\n",
    "        if torch.cuda.is_available():\n",
    "            inputs = {k: v.to('cuda') for k, v in inputs.items()}\n",
    "            model.to('cuda')\n",
    "        \n",
    "        # 모델로 예측 수행\n",
    "        with torch.no_grad():\n",
    "            outputs = model(**inputs)\n",
    "            logits = outputs.logits\n",
    "            predicted_class_id = logits.argmax().item()\n",
    "            predictions.append(predicted_class_id)\n",
    "    \n",
    "    return predictions"
   ]
  },
  {
   "cell_type": "code",
   "execution_count": 20,
   "metadata": {},
   "outputs": [],
   "source": [
    "topics = {0: 'world',\n",
    "    1: 'sports',\n",
    "    2: 'business',\n",
    "    3: 'science'}"
   ]
  },
  {
   "cell_type": "code",
   "execution_count": 21,
   "metadata": {},
   "outputs": [
    {
     "name": "stdout",
     "output_type": "stream",
     "text": [
      "business: 22\n",
      "science: 123\n",
      "sports: 19\n",
      "world: 24\n"
     ]
    }
   ],
   "source": [
    "from collections import Counter\n",
    "\n",
    "predicted_classes = classify_texts(pre)\n",
    "\n",
    "pre_result = [topics[item] for item in predicted_classes]\n",
    "\n",
    "# 예측 결과 출력\n",
    "text_count = Counter(pre_result)\n",
    "\n",
    "for text, count in text_count.items():\n",
    "    print(f'{text}: {count}')"
   ]
  },
  {
   "cell_type": "code",
   "execution_count": 22,
   "metadata": {},
   "outputs": [
    {
     "name": "stdout",
     "output_type": "stream",
     "text": [
      "business: 16\n",
      "science: 122\n",
      "sports: 22\n",
      "world: 28\n"
     ]
    },
    {
     "ename": "",
     "evalue": "",
     "output_type": "error",
     "traceback": [
      "\u001b[1;31mThe Kernel crashed while executing code in the current cell or a previous cell. \n",
      "\u001b[1;31mPlease review the code in the cell(s) to identify a possible cause of the failure. \n",
      "\u001b[1;31mClick <a href='https://aka.ms/vscodeJupyterKernelCrash'>here</a> for more info. \n",
      "\u001b[1;31mView Jupyter <a href='command:jupyter.viewOutput'>log</a> for further details."
     ]
    }
   ],
   "source": [
    "# 텍스트를 분류\n",
    "predicted_classes = classify_texts(post)\n",
    "\n",
    "post_result = [topics[item] for item in predicted_classes]\n",
    "\n",
    "text_count = Counter(post_result)\n",
    "\n",
    "for text, count in text_count.items():\n",
    "    print(f'{text}: {count}')"
   ]
  }
 ],
 "metadata": {
  "kernelspec": {
   "display_name": "memit_ex",
   "language": "python",
   "name": "python3"
  },
  "language_info": {
   "codemirror_mode": {
    "name": "ipython",
    "version": 3
   },
   "file_extension": ".py",
   "mimetype": "text/x-python",
   "name": "python",
   "nbconvert_exporter": "python",
   "pygments_lexer": "ipython3",
   "version": "3.9.19"
  }
 },
 "nbformat": 4,
 "nbformat_minor": 2
}
